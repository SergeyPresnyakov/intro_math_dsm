{
 "cells": [
  {
   "cell_type": "markdown",
   "metadata": {},
   "source": [
    "## Тема 1. “Элементарная алгебра”"
   ]
  },
  {
   "cell_type": "markdown",
   "metadata": {},
   "source": [
    "1.Задание (на листочке)  \n",
    "**Вычислите:**"
   ]
  },
  {
   "cell_type": "markdown",
   "metadata": {},
   "source": [
    "$$\n",
    "\\begin{equation*}\n",
    "    {7* \n",
    "    \\begin{bmatrix}\n",
    "        5 & 10 \\\\\n",
    "        7 & 12 \\\\\n",
    "        11.3 & 5 \\\\\n",
    "        25 & 30\n",
    "    \\end{bmatrix}\n",
    "    } + {2* \n",
    "    \\begin{bmatrix}\n",
    "        5 & 10 \\\\\n",
    "        7 & 12 \\\\\n",
    "        11.3 & 5 \\\\\n",
    "        25 & 30\n",
    "    \\end{bmatrix}\n",
    "    } = {(7+2)* \n",
    "    \\begin{bmatrix}\n",
    "        5 & 10 \\\\\n",
    "        7 & 12 \\\\\n",
    "        11.3 & 5 \\\\\n",
    "        25 & 30\n",
    "    \\end{bmatrix}\n",
    "    } = {\n",
    "    \\begin{bmatrix}\n",
    "        45 & 90 \\\\\n",
    "        63 & 108 \\\\\n",
    "        101.7 & 45 \\\\\n",
    "        225 & 270\n",
    "    \\end{bmatrix}\n",
    "    }\n",
    "\\end{equation*}\n",
    "$$"
   ]
  },
  {
   "cell_type": "markdown",
   "metadata": {},
   "source": [
    "**2.1. Задание (на листочке)**  \n",
    "Решите систему уравнений:"
   ]
  },
  {
   "cell_type": "markdown",
   "metadata": {},
   "source": [
    "$$\n",
    "\\begin{equation*}\n",
    " \\begin{cases}\n",
    "   3x - 2y + 5z = 7, \n",
    "   \\\\\n",
    "   7x + 4y - 8z = 3,\n",
    "   \\\\\n",
    "   5x - 3y - 4z = -12.\n",
    " \\end{cases}\n",
    "\\end{equation*}\n",
    "$$"
   ]
  },
  {
   "cell_type": "markdown",
   "metadata": {},
   "source": [
    "Можно решить несколькими способами, я выбрала решение по Крамеру:\n",
    "\n",
    "Δ = (3 * 4 * -4) + ( 7 * -3 * 5) + (-2 * -8 * 5) - (5 * 4 * 5) - (7 * -2 * -4) - ( -3 * -8 * 3) = - 301  \n",
    "Δx = (7 * 4 * -4) + (3 * -3 * 5) + (-2 * -8 * -12) - (4 * 5* -12) - (3 * -2 * -4) - (7 * -3 * -8) = -301  \n",
    "Δy = (3 * 3 * -4) - (5 * 3 * 5) + (7 * -8 * 5) + (7 * -12 * 5) - (7 * 7 * -4) - (3 * -12 * -8) = -903  \n",
    "Δz = (3 * 4* -12) - (7 * 4 * 5) + (3 * -2 * 5) + (7 * -3 * 7) - ( 7 * -2 * -12) - (3 * -3 * 3) = -602  \n",
    "\n",
    "x = 1, y = 3, z = 2"
   ]
  },
  {
   "cell_type": "markdown",
   "metadata": {},
   "source": [
    "**Вопросы:**  \n",
    "Линейная или нелинейная это система? Система линейная.  \n",
    "А каждое уравнение по отдельности? линейны"
   ]
  },
  {
   "cell_type": "markdown",
   "metadata": {},
   "source": [
    "**2.2. Задание (на листочке)**  \n",
    "Решите систему уравнений:"
   ]
  },
  {
   "cell_type": "markdown",
   "metadata": {},
   "source": [
    "$$\n",
    "\\begin{equation*}\n",
    " \\begin{cases}\n",
    "   x^2 + x y - 9 = 0, \n",
    "   \\\\\n",
    "   x - {y \\over 5} = 0.\n",
    " \\end{cases}\n",
    "\\end{equation*}\n",
    "$$\n",
    "$$\n",
    "\\begin{equation*}\n",
    " \\begin{cases}\n",
    "   x^2 + x y - 9 = 0, \n",
    "   \\\\\n",
    "   x = y/5 ;\n",
    " \\end{cases}\n",
    "\\end{equation*}\n",
    "$$\n",
    "\n",
    "$$\n",
    "\\begin{equation*}\n",
    " \\begin{cases}\n",
    "   x^2 + x y - 9 = 0, \n",
    "   \\\\\n",
    "   5x = y\n",
    " \\end{cases}\n",
    "\\end{equation*}\n",
    "$$\n",
    "\n",
    "$$\n",
    "\\begin{equation*}\n",
    " \\begin{cases}\n",
    "   x^2 + x * 5x - 9 = 0, \n",
    "   \\\\\n",
    "   5x = y\n",
    " \\end{cases}\n",
    "\\end{equation*}\n",
    "$$\n",
    "\n",
    "$$\n",
    "\\begin{equation*}\n",
    " \\begin{cases}\n",
    "   6x^2 = 9, \n",
    "   \\\\\n",
    "   y = 5x\n",
    " \\end{cases}\n",
    "\\end{equation*}\n",
    "$$\n",
    "\n",
    "$$\n",
    "\\begin{equation*}\n",
    " \\begin{cases}\n",
    "   x^2 = 1.5, \n",
    "   \\\\\n",
    "   y = 5x\n",
    " \\end{cases}\n",
    "\\end{equation*}\n",
    "$$\n",
    "\n",
    "$$\n",
    "x1 = \\sqrt{1.5}, x2 = -\\sqrt{1.5}, y1 = 5\\sqrt{1.5}, y2 = -5\\sqrt{1.5}\n",
    "$$\n"
   ]
  },
  {
   "cell_type": "markdown",
   "metadata": {},
   "source": [
    "**Вопросы:**  \n",
    "Линейная или нелинейная это система?  не линейна  \n",
    "А каждое уравнение по отдельности?  *первое уравнение не линейно, второе линейно*"
   ]
  },
  {
   "cell_type": "markdown",
   "metadata": {},
   "source": [
    "**3.Задание (на листочке)**  \n",
    "Площадь пола прямоугольной комнаты равна 48 м2,а его периметр равен 28 м. Найдите длину и ширину комнаты."
   ]
  },
  {
   "cell_type": "markdown",
   "metadata": {},
   "source": [
    "$$\n",
    "\\begin{equation*}\n",
    " \\begin{cases}\n",
    "   S = a*b, \n",
    "   \\\\\n",
    "   P = 2(a+b)\n",
    " \\end{cases}\n",
    "\\end{equation*}\n",
    "$$\n",
    "\n",
    "$$\n",
    "\\begin{equation*}\n",
    " \\begin{cases}\n",
    "   a*b = 48, \n",
    "   \\\\\n",
    "   2(a+b) = 28\n",
    " \\end{cases}\n",
    "\\end{equation*}\n",
    "$$\n",
    "\n",
    "$$\n",
    "\\begin{equation*}\n",
    " \\begin{cases}\n",
    "   a*b = 48, \n",
    "   \\\\\n",
    "   a+b = 14\n",
    " \\end{cases}\n",
    "\\end{equation*}\n",
    "$$\n",
    "\n",
    "$$\n",
    "\\begin{equation*}\n",
    " \\begin{cases}\n",
    "   a*b = 48, \n",
    "   \\\\\n",
    "   a = 14 - b\n",
    " \\end{cases}\n",
    "\\end{equation*}\n",
    "$$\n",
    "\n",
    "$$\n",
    "\\begin{equation*}\n",
    " \\begin{cases}\n",
    "   (14 - b) * b = 48, \n",
    "   \\\\\n",
    "   a = 14 - b\n",
    " \\end{cases}\n",
    "\\end{equation*}\n",
    "$$\n",
    "\n",
    "$$\n",
    "\\begin{equation*}\n",
    " \\begin{cases}\n",
    "   b^2 -14b + 48 = 0, \n",
    "   \\\\\n",
    "   a = 14 - b\n",
    " \\end{cases}\n",
    "\\end{equation*}\n",
    "$$\n",
    " \n",
    "D = -14 * -14 - 4 * 48  \n",
    "D = 4  \n",
    "$$\n",
    "\\begin{equation*}\n",
    " \\begin{cases}\n",
    "   b = (14 +- 2 ) / 2\n",
    "   \\\\\n",
    "   a = 14 - b\n",
    " \\end{cases}\n",
    "\\end{equation*}\n",
    "$$\n",
    "Ответ:  \n",
    "   b1, b2 = 8, 6  \n",
    "   a1, a2 = 6, 8"
   ]
  },
  {
   "cell_type": "markdown",
   "metadata": {},
   "source": [
    "**4. Задание (в программе):**  \n",
    "Постройте на одном графике две кривые y(x) для функции двух переменной y(k,x)=cos(k∙x), взяв для одной кривой значение k=1, а для другой – любое другое k, не равное 1."
   ]
  },
  {
   "cell_type": "code",
   "execution_count": 1,
   "metadata": {},
   "outputs": [],
   "source": [
    "import matplotlib.pyplot as plt\n",
    "%matplotlib inline\n",
    "import numpy as np"
   ]
  },
  {
   "cell_type": "code",
   "execution_count": 2,
   "metadata": {},
   "outputs": [
    {
     "data": {
      "image/png": "[encoded data removed]",
      "text/plain": [
       "<Figure size 432x288 with 1 Axes>"
      ]
     },
     "metadata": {
      "needs_background": "light"
     },
     "output_type": "display_data"
    }
   ],
   "source": [
    "x = np.linspace(-3.5, 3.5, 150)\n",
    "y1 = np.cos(x)\n",
    "y2 = np.cos(-2*x)\n",
    "plt.plot(x, y1, color='green', label=\"cos(x)\")\n",
    "plt.plot(x, y2, color='red', label=\"cos(-2x)\")\n",
    "plt.title('График y(x)')\n",
    "plt.xlabel('Значения x')\n",
    "plt.ylabel('Значения y')\n",
    "plt.grid(True)\n",
    "plt.legend(loc='lower left')\n",
    "plt.show()"
   ]
  },
  {
   "cell_type": "markdown",
   "metadata": {},
   "source": [
    " "
   ]
  },
  {
   "cell_type": "code",
   "execution_count": null,
   "metadata": {},
   "outputs": [],
   "source": []
  }
 ],
 "metadata": {
  "kernelspec": {
   "display_name": "Python 3",
   "language": "python",
   "name": "python3"
  },
  "language_info": {
   "codemirror_mode": {
    "name": "ipython",
    "version": 3
   },
   "file_extension": ".py",
   "mimetype": "text/x-python",
   "name": "python",
   "nbconvert_exporter": "python",
   "pygments_lexer": "ipython3",
   "version": "3.8.6"
  }
 },
 "nbformat": 4,
 "nbformat_minor": 4
}
